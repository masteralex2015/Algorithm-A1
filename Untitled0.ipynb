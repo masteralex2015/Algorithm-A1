{
  "nbformat": 4,
  "nbformat_minor": 0,
  "metadata": {
    "colab": {
      "name": "Untitled0.ipynb",
      "provenance": [],
      "collapsed_sections": []
    },
    "kernelspec": {
      "name": "python3",
      "display_name": "Python 3"
    },
    "language_info": {
      "name": "python"
    }
  },
  "cells": [
    {
      "cell_type": "code",
      "metadata": {
        "colab": {
          "base_uri": "https://localhost:8080/",
          "height": 52
        },
        "id": "D6vapsF2OPtG",
        "outputId": "b40f306a-47d8-4317-bc1a-2b0a20e05204"
      },
      "source": [
        " \n",
        "word = input('jūsu vārds:')\n",
        "#word ieraksta vēlamo vārdu kuru sakārtot \n",
        "x = (word)\n",
        "#x vērtība kuru skārto\n",
        "''.join(sorted(x))\n",
        "#joint burtus savieno bez atstārpēm. un sakārto alfabēta secībā"
      ],
      "execution_count": null,
      "outputs": [
        {
          "output_type": "stream",
          "text": [
            "jūsu vārds:lol\n"
          ],
          "name": "stdout"
        },
        {
          "output_type": "execute_result",
          "data": {
            "application/vnd.google.colaboratory.intrinsic+json": {
              "type": "string"
            },
            "text/plain": [
              "'llo'"
            ]
          },
          "metadata": {
            "tags": []
          },
          "execution_count": 55
        }
      ]
    }
  ]
}