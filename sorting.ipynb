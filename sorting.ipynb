{
  "nbformat": 4,
  "nbformat_minor": 0,
  "metadata": {
    "colab": {
      "name": "sorting",
      "provenance": [],
      "collapsed_sections": [],
      "authorship_tag": "ABX9TyPZPvuguZP1maUvNoqucUTh",
      "include_colab_link": true
    },
    "kernelspec": {
      "name": "python3",
      "display_name": "Python 3"
    },
    "language_info": {
      "name": "python"
    }
  },
  "cells": [
    {
      "cell_type": "markdown",
      "metadata": {
        "id": "view-in-github",
        "colab_type": "text"
      },
      "source": [
        "<a href=\"https://colab.research.google.com/github/masteralex2015/Algorithm-A1/blob/main/sorting.ipynb\" target=\"_parent\"><img src=\"https://colab.research.google.com/assets/colab-badge.svg\" alt=\"Open In Colab\"/></a>"
      ]
    },
    {
      "cell_type": "code",
      "metadata": {
        "colab": {
          "base_uri": "https://localhost:8080/",
          "height": 52
        },
        "id": "D6vapsF2OPtG",
        "outputId": "b48c09f1-ef2b-4f7b-8d4c-fc96eb2242db"
      },
      "source": [
        " \n",
        "word = input('jūsu vārds:')\n",
        "#word ieraksta vēlamo vārdu kuru sakārtot \n",
        "x = (word)\n",
        "#x vērtība kuru skārto\n",
        "''.join(sorted(x))\n",
        "#joint burtus savieno bez atstārpēm. un sakārto alfabēta secībā"
      ],
      "execution_count": null,
      "outputs": [
        {
          "output_type": "stream",
          "text": [
            "jūsu vārds:aleksis1568\n"
          ],
          "name": "stdout"
        },
        {
          "output_type": "execute_result",
          "data": {
            "application/vnd.google.colaboratory.intrinsic+json": {
              "type": "string"
            },
            "text/plain": [
              "'1568aeiklss'"
            ]
          },
          "metadata": {
            "tags": []
          },
          "execution_count": 19
        }
      ]
    },
    {
      "cell_type": "code",
      "metadata": {
        "colab": {
          "base_uri": "https://localhost:8080/"
        },
        "id": "v95TMCRUkyAk",
        "outputId": "943f22b3-8274-4a77-9ca3-b526c512f331"
      },
      "source": [
        "x = input('word you want ot write in alphabetical order:')\n",
        "ASCII_values = [ord(character) for character in x]\n",
        "print(ASCII_values)\n"
      ],
      "execution_count": null,
      "outputs": [
        {
          "output_type": "stream",
          "text": [
            "word you want ot write in alphabetical order:aleksis\n",
            "[97, 108, 101, 107, 115, 105, 115]\n"
          ],
          "name": "stdout"
        }
      ]
    },
    {
      "cell_type": "code",
      "metadata": {
        "id": "FegQQlF2ZNL0"
      },
      "source": [
        ""
      ],
      "execution_count": null,
      "outputs": []
    },
    {
      "cell_type": "code",
      "metadata": {
        "colab": {
          "base_uri": "https://localhost:8080/"
        },
        "id": "c5X554RZbslZ",
        "outputId": "e985e6f3-fb9c-4145-e961-2b651e7a6c2a"
      },
      "source": [
        "print('---------------')\n",
        "print('/             /')\n",
        "print('/             /')\n",
        "print('/             /')\n",
        "print('---------------')"
      ],
      "execution_count": null,
      "outputs": [
        {
          "output_type": "stream",
          "text": [
            "---------------\n",
            "/             /\n",
            "/             /\n",
            "/             /\n",
            "---------------\n"
          ],
          "name": "stdout"
        }
      ]
    }
  ]
}